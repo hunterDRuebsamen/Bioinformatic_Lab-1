{
 "cells": [
  {
   "attachments": {},
   "cell_type": "markdown",
   "metadata": {},
   "source": [
    "### WIP Methylation Statistical Analysis\n",
    "\n",
    "This code analyzes a multi-tissue DNA methylation dataset from mice, sourced from ['Multi-tissue DNA methylation age predictor in mouse'](https://genomebiology.biomedcentral.com/articles/10.1186/s13059-017-1203-5). It calculates average methylation rate, depth, and identifies tissue-specific and age-related differentiations in the samples. By employing  statistical techniques, this code will provide valuable insights into DNA methylation patterns and their association with aging processes. "
   ]
  },
  {
   "cell_type": "code",
   "execution_count": 20,
   "metadata": {},
   "outputs": [],
   "source": [
    "import gzip\n",
    "import os\n",
    "import pandas as pd\n",
    "import sys"
   ]
  },
  {
   "attachments": {},
   "cell_type": "markdown",
   "metadata": {},
   "source": [
    "### Load Data & Build Dataframe\n",
    "\n",
    "The build_df function generates a pandas DataFrame from a specified sample name. It initializes an empty DataFrame and defines column names. It iterates through files in the directory, checking for gzip format and matching sample name. Data is read using read_csv, with tab as separator, and stored in a temporary DataFrame. If the main DataFrame is empty, the data is directly assigned. The function returns the compiled DataFrame from matching files."
   ]
  },
  {
   "cell_type": "code",
   "execution_count": 21,
   "metadata": {},
   "outputs": [],
   "source": [
    "directory = 'data/GSE93957_RAW/'\n",
    "sample_list = [\"Lung\", \"Heart\", \"Liver\", \"Cortex\"]\n",
    "\n",
    "def build_df(sample: str) -> pd.DataFrame:\n",
    "    # Create empty DataFrame to be filled\n",
    "    df = pd.DataFrame()\n",
    "    columns_names = ['chromosome', 's_loc', 'e_loc', 'methyl_rate', 's_depth', 'e_depth']\n",
    "\n",
    "    # Iterate over files in the directory\n",
    "    for filename in os.listdir(directory):\n",
    "\n",
    "        # Check if the file is gzipped and the sample matches what we're working on\n",
    "        if filename.endswith('.gz') and sample in filename and '_1wk_' in filename:  \n",
    "            file_path = os.path.join(directory, filename)\n",
    "\n",
    "            # Open the gzipped file in text mode\n",
    "            with gzip.open(file_path, 'rt') as file:  \n",
    "                print(file_path)\n",
    "                if len(df) > 0:                    \n",
    "                    # Create temporary dataframe to concatenate results\n",
    "                    temp_df = pd.read_csv(file_path, sep=\"\\t\", header=None, names=columns_names, low_memory=False)\n",
    "                    pd.concat([df, temp_df], ignore_index=True)\n",
    "                else:\n",
    "                    df = pd.read_csv(file_path, sep=\"\\t\", header=None, names=columns_names, low_memory=False)\n",
    "    return df"
   ]
  },
  {
   "attachments": {},
   "cell_type": "markdown",
   "metadata": {},
   "source": [
    "### Build Final Result"
   ]
  },
  {
   "cell_type": "code",
   "execution_count": 22,
   "metadata": {},
   "outputs": [],
   "source": [
    "def build_result():\n",
    "    column_names = ['sites', 'ave depth', 'ave methylation']\n",
    "    result = pd.DataFrame(columns=column_names)\n",
    "\n",
    "    for sample in sample_list:\n",
    "        df = build_df(sample)\n",
    "        length = len(df)\n",
    "        depth = (df['s_depth'] + df['e_depth']).mean()\n",
    "        mean = df['methyl_rate'].mean()\n",
    "        result.loc[len(result)] = [length, depth, mean]\n",
    "\n",
    "    return result\n",
    "\n"
   ]
  },
  {
   "attachments": {},
   "cell_type": "markdown",
   "metadata": {},
   "source": [
    "### Display menu for user\n",
    "\n",
    "In this example we choose '5': all samples"
   ]
  },
  {
   "cell_type": "code",
   "execution_count": 23,
   "metadata": {},
   "outputs": [
    {
     "name": "stdout",
     "output_type": "stream",
     "text": [
      "Pick the number of which tissue sample you'd like to perform statistical analysis on: \n",
      "\n",
      "    1. Lung\n",
      "    2. Heart\n",
      "    3. Liver\n",
      "    4. Cortex\n",
      "    5. Save all Samples\n",
      "data/GSE93957_RAW/GSM2465653_M02NB_1wk_Lung.cov.txt.gz\n",
      "data/GSE93957_RAW/GSM2465668_M04NB_1wk_Lung.cov.txt.gz\n",
      "data/GSE93957_RAW/GSM2465656_M03NB_1wk_Lung.cov.txt.gz\n",
      "data/GSE93957_RAW/GSM2465650_M01NB_1wk_Lung.cov.txt.gz\n",
      "data/GSE93957_RAW/GSM2465648_M01NB_1wk_Heart.cov.txt.gz\n",
      "data/GSE93957_RAW/GSM2465666_M04NB_1wk_Heart.cov.txt.gz\n",
      "data/GSE93957_RAW/GSM2465655_M03NB_1wk_Heart.cov.txt.gz\n",
      "data/GSE93957_RAW/GSM2465667_M04NB_1wk_Liver.cov.txt.gz\n",
      "data/GSE93957_RAW/GSM2465652_M02NB_1wk_Liver.cov.txt.gz\n",
      "data/GSE93957_RAW/GSM2465649_M01NB_1wk_Liver.cov.txt.gz\n",
      "data/GSE93957_RAW/GSM2465665_M04NB_1wk_Cortex.cov.txt.gz\n",
      "data/GSE93957_RAW/GSM2465654_M03NB_1wk_Cortex.cov.txt.gz\n",
      "data/GSE93957_RAW/GSM2465651_M02NB_1wk_Cortex.cov.txt.gz\n",
      "data/GSE93957_RAW/GSM2465647_M01NB_1wk_Cortex.cov.txt.gz\n"
     ]
    }
   ],
   "source": [
    "print(\"Pick the number of which tissue sample you'd like to perform statistical analysis on: \")\n",
    "print(\"\"\"\n",
    "    1. Lung\n",
    "    2. Heart\n",
    "    3. Liver\n",
    "    4. Cortex\n",
    "    5. Save all Samples\"\"\")\n",
    "\n",
    "opt_sel = int(input(\"--->\"))\n",
    "\n",
    "if opt_sel < 5:\n",
    "    df = build_df(sample_list[opt_sel-1])\n",
    "    # chromo_df = df[df['chromosome'] == '10']\n",
    "    # print(chromo_df.head())\n",
    "    print(f\"Total # of Samples: {len(df)}\")\n",
    "    print(f\"Average Methylation Rate: {df['methyl_rate'].mean()}%\")\n",
    "    print(f\"Average Methylation depth: {(df['s_depth'] + df['e_depth']).mean()}\")\n",
    "else:\n",
    "    # Analyze all the tissue samples and save to .CSV\n",
    "    df = build_result()\n",
    "    df['Row'] = sample_list\n",
    "    column_order = ['Row', 'sites', 'ave depth', 'ave methylation']\n",
    "    df = df[column_order]\n",
    "    df.to_csv('result.csv', index=False)"
   ]
  },
  {
   "cell_type": "code",
   "execution_count": 24,
   "metadata": {},
   "outputs": [
    {
     "data": {
      "text/html": [
       "<div>\n",
       "<style scoped>\n",
       "    .dataframe tbody tr th:only-of-type {\n",
       "        vertical-align: middle;\n",
       "    }\n",
       "\n",
       "    .dataframe tbody tr th {\n",
       "        vertical-align: top;\n",
       "    }\n",
       "\n",
       "    .dataframe thead th {\n",
       "        text-align: right;\n",
       "    }\n",
       "</style>\n",
       "<table border=\"1\" class=\"dataframe\">\n",
       "  <thead>\n",
       "    <tr style=\"text-align: right;\">\n",
       "      <th></th>\n",
       "      <th>Row</th>\n",
       "      <th>sites</th>\n",
       "      <th>ave depth</th>\n",
       "      <th>ave methylation</th>\n",
       "    </tr>\n",
       "  </thead>\n",
       "  <tbody>\n",
       "    <tr>\n",
       "      <th>0</th>\n",
       "      <td>Lung</td>\n",
       "      <td>4085551.0</td>\n",
       "      <td>15.241029</td>\n",
       "      <td>35.427501</td>\n",
       "    </tr>\n",
       "    <tr>\n",
       "      <th>1</th>\n",
       "      <td>Heart</td>\n",
       "      <td>4021292.0</td>\n",
       "      <td>14.609889</td>\n",
       "      <td>35.120765</td>\n",
       "    </tr>\n",
       "    <tr>\n",
       "      <th>2</th>\n",
       "      <td>Liver</td>\n",
       "      <td>4147692.0</td>\n",
       "      <td>13.342087</td>\n",
       "      <td>36.218352</td>\n",
       "    </tr>\n",
       "    <tr>\n",
       "      <th>3</th>\n",
       "      <td>Cortex</td>\n",
       "      <td>4353634.0</td>\n",
       "      <td>14.978642</td>\n",
       "      <td>38.081742</td>\n",
       "    </tr>\n",
       "  </tbody>\n",
       "</table>\n",
       "</div>"
      ],
      "text/plain": [
       "      Row      sites  ave depth  ave methylation\n",
       "0    Lung  4085551.0  15.241029        35.427501\n",
       "1   Heart  4021292.0  14.609889        35.120765\n",
       "2   Liver  4147692.0  13.342087        36.218352\n",
       "3  Cortex  4353634.0  14.978642        38.081742"
      ]
     },
     "execution_count": 24,
     "metadata": {},
     "output_type": "execute_result"
    }
   ],
   "source": [
    "# Display Results Table\n",
    "df"
   ]
  }
 ],
 "metadata": {
  "kernelspec": {
   "display_name": "vmeth",
   "language": "python",
   "name": "python3"
  },
  "language_info": {
   "codemirror_mode": {
    "name": "ipython",
    "version": 3
   },
   "file_extension": ".py",
   "mimetype": "text/x-python",
   "name": "python",
   "nbconvert_exporter": "python",
   "pygments_lexer": "ipython3",
   "version": "3.10.6"
  },
  "orig_nbformat": 4
 },
 "nbformat": 4,
 "nbformat_minor": 2
}
