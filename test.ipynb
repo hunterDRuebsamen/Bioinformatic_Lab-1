{
 "cells": [
  {
   "attachments": {},
   "cell_type": "markdown",
   "metadata": {},
   "source": [
    "### Load Data from 'data' directory"
   ]
  },
  {
   "cell_type": "code",
   "execution_count": 1,
   "metadata": {},
   "outputs": [],
   "source": [
    "import gzip\n",
    "import os\n",
    "import pandas as pd\n",
    "import sys"
   ]
  },
  {
   "cell_type": "code",
   "execution_count": 12,
   "metadata": {},
   "outputs": [],
   "source": [
    "directory = 'data'\n",
    "sample_list = [\"Lung\", \"Heart\", \"Liver\", \"Cortex\"]\n",
    "\n",
    "def build_df(sample: str) -> pd.DataFrame:\n",
    "    # Create empty DataFrame to be filled\n",
    "    df = pd.DataFrame()\n",
    "    columns_names = ['chromosome', 's_loc', 'e_loc', 'methyl_rate', 's_depth', 'e_depth']\n",
    "\n",
    "    # Iterate over files in the directory\n",
    "    for filename in os.listdir(directory):\n",
    "\n",
    "        # Check if the file is gzipped and the sample matches what we're working on\n",
    "        if filename.endswith('.gz') and sample in filename:  \n",
    "            file_path = os.path.join(directory, filename)\n",
    "\n",
    "            # Open the gzipped file in text mode\n",
    "            with gzip.open(file_path, 'rt') as file:  \n",
    "                print(file_path)\n",
    "                if len(df) > 0:                    \n",
    "                    # Create temporary dataframe to concatenate results\n",
    "                    temp_df = pd.read_csv(file_path, sep=\"\\t\", header=None, names=columns_names, low_memory=False)\n",
    "                    pd.concat([df, temp_df], ignore_index=True)\n",
    "                else:\n",
    "                    df = pd.read_csv(file_path, sep=\"\\t\", header=None, names=columns_names, low_memory=False)\n",
    "    return df"
   ]
  },
  {
   "cell_type": "code",
   "execution_count": 3,
   "metadata": {},
   "outputs": [],
   "source": [
    "def build_result():\n",
    "    column_names = ['sites', 'ave depth', 'ave methylation']\n",
    "    result = pd.DataFrame(columns=column_names)\n",
    "\n",
    "    for sample in sample_list:\n",
    "        df = build_df(sample)\n",
    "        length = len(df)\n",
    "        depth = (df['s_depth'] + df['e_depth']).mean()\n",
    "        mean = df['methyl_rate'].mean()\n",
    "        result.loc[len(result)] = [length, depth, mean]\n",
    "\n",
    "    return result\n",
    "\n"
   ]
  },
  {
   "cell_type": "code",
   "execution_count": 16,
   "metadata": {},
   "outputs": [
    {
     "name": "stdout",
     "output_type": "stream",
     "text": [
      "Pick the number of which tissue sample you'd like to perform statistical analysis on: \n",
      "\n",
      "1. Lung \n",
      "2. Heart \n",
      "3. Liver \n",
      "4. Cortex \n",
      "5. All Samples\n",
      "data/GSM2465653_M02NB_1wk_Lung.cov.txt.gz\n",
      "data/GSM2465668_M04NB_1wk_Lung.cov.txt.gz\n",
      "data/GSM2465656_M03NB_1wk_Lung.cov.txt.gz\n",
      "data/GSM2465650_M01NB_1wk_Lung.cov.txt.gz\n",
      "data/GSM2465648_M01NB_1wk_Heart.cov.txt.gz\n"
     ]
    },
    {
     "ename": "KeyboardInterrupt",
     "evalue": "",
     "output_type": "error",
     "traceback": [
      "\u001b[0;31m---------------------------------------------------------------------------\u001b[0m",
      "\u001b[0;31mKeyboardInterrupt\u001b[0m                         Traceback (most recent call last)",
      "Cell \u001b[0;32mIn[16], line 10\u001b[0m\n\u001b[1;32m      8\u001b[0m \u001b[39melse\u001b[39;00m:\n\u001b[1;32m      9\u001b[0m     df[\u001b[39m'\u001b[39m\u001b[39mRow Label\u001b[39m\u001b[39m'\u001b[39m] \u001b[39m=\u001b[39m sample_list\n\u001b[0;32m---> 10\u001b[0m     df \u001b[39m=\u001b[39m build_result()\n\u001b[1;32m     12\u001b[0m \u001b[39m# # print(chromo_df.head())\u001b[39;00m\n\u001b[1;32m     13\u001b[0m \u001b[39m# print(f\"Total # of Samples: {len(df)}\")\u001b[39;00m\n\u001b[1;32m     14\u001b[0m \u001b[39m# print(f\"Average Methylation Rate: {df['methyl_rate'].mean()}%\")\u001b[39;00m\n\u001b[1;32m     15\u001b[0m \u001b[39m# print(f\"Average Methylation depth: {(df['s_depth'] + df['e_depth']).mean()}\")\u001b[39;00m\n\u001b[1;32m     18\u001b[0m df\u001b[39m.\u001b[39mto_csv(\u001b[39m'\u001b[39m\u001b[39mresult.csv\u001b[39m\u001b[39m'\u001b[39m)\n",
      "Cell \u001b[0;32mIn[3], line 6\u001b[0m, in \u001b[0;36mbuild_result\u001b[0;34m()\u001b[0m\n\u001b[1;32m      3\u001b[0m result \u001b[39m=\u001b[39m pd\u001b[39m.\u001b[39mDataFrame(columns\u001b[39m=\u001b[39mcolumn_names)\n\u001b[1;32m      5\u001b[0m \u001b[39mfor\u001b[39;00m sample \u001b[39min\u001b[39;00m sample_list:\n\u001b[0;32m----> 6\u001b[0m     df \u001b[39m=\u001b[39m build_df(sample)\n\u001b[1;32m      7\u001b[0m     length \u001b[39m=\u001b[39m \u001b[39mlen\u001b[39m(df)\n\u001b[1;32m      8\u001b[0m     depth \u001b[39m=\u001b[39m (df[\u001b[39m'\u001b[39m\u001b[39ms_depth\u001b[39m\u001b[39m'\u001b[39m] \u001b[39m+\u001b[39m df[\u001b[39m'\u001b[39m\u001b[39me_depth\u001b[39m\u001b[39m'\u001b[39m])\u001b[39m.\u001b[39mmean()\n",
      "Cell \u001b[0;32mIn[12], line 24\u001b[0m, in \u001b[0;36mbuild_df\u001b[0;34m(sample)\u001b[0m\n\u001b[1;32m     22\u001b[0m                 pd\u001b[39m.\u001b[39mconcat([df, temp_df], ignore_index\u001b[39m=\u001b[39m\u001b[39mTrue\u001b[39;00m)\n\u001b[1;32m     23\u001b[0m             \u001b[39melse\u001b[39;00m:\n\u001b[0;32m---> 24\u001b[0m                 df \u001b[39m=\u001b[39m pd\u001b[39m.\u001b[39;49mread_csv(file_path, sep\u001b[39m=\u001b[39;49m\u001b[39m\"\u001b[39;49m\u001b[39m\\t\u001b[39;49;00m\u001b[39m\"\u001b[39;49m, header\u001b[39m=\u001b[39;49m\u001b[39mNone\u001b[39;49;00m, names\u001b[39m=\u001b[39;49mcolumns_names, low_memory\u001b[39m=\u001b[39;49m\u001b[39mFalse\u001b[39;49;00m)\n\u001b[1;32m     25\u001b[0m \u001b[39mreturn\u001b[39;00m df\n",
      "File \u001b[0;32m~/Programming/Bioinformatics/Projects/Methylation_1/vmeth/lib/python3.10/site-packages/pandas/io/parsers/readers.py:912\u001b[0m, in \u001b[0;36mread_csv\u001b[0;34m(filepath_or_buffer, sep, delimiter, header, names, index_col, usecols, dtype, engine, converters, true_values, false_values, skipinitialspace, skiprows, skipfooter, nrows, na_values, keep_default_na, na_filter, verbose, skip_blank_lines, parse_dates, infer_datetime_format, keep_date_col, date_parser, date_format, dayfirst, cache_dates, iterator, chunksize, compression, thousands, decimal, lineterminator, quotechar, quoting, doublequote, escapechar, comment, encoding, encoding_errors, dialect, on_bad_lines, delim_whitespace, low_memory, memory_map, float_precision, storage_options, dtype_backend)\u001b[0m\n\u001b[1;32m    899\u001b[0m kwds_defaults \u001b[39m=\u001b[39m _refine_defaults_read(\n\u001b[1;32m    900\u001b[0m     dialect,\n\u001b[1;32m    901\u001b[0m     delimiter,\n\u001b[0;32m   (...)\u001b[0m\n\u001b[1;32m    908\u001b[0m     dtype_backend\u001b[39m=\u001b[39mdtype_backend,\n\u001b[1;32m    909\u001b[0m )\n\u001b[1;32m    910\u001b[0m kwds\u001b[39m.\u001b[39mupdate(kwds_defaults)\n\u001b[0;32m--> 912\u001b[0m \u001b[39mreturn\u001b[39;00m _read(filepath_or_buffer, kwds)\n",
      "File \u001b[0;32m~/Programming/Bioinformatics/Projects/Methylation_1/vmeth/lib/python3.10/site-packages/pandas/io/parsers/readers.py:583\u001b[0m, in \u001b[0;36m_read\u001b[0;34m(filepath_or_buffer, kwds)\u001b[0m\n\u001b[1;32m    580\u001b[0m     \u001b[39mreturn\u001b[39;00m parser\n\u001b[1;32m    582\u001b[0m \u001b[39mwith\u001b[39;00m parser:\n\u001b[0;32m--> 583\u001b[0m     \u001b[39mreturn\u001b[39;00m parser\u001b[39m.\u001b[39;49mread(nrows)\n",
      "File \u001b[0;32m~/Programming/Bioinformatics/Projects/Methylation_1/vmeth/lib/python3.10/site-packages/pandas/io/parsers/readers.py:1704\u001b[0m, in \u001b[0;36mTextFileReader.read\u001b[0;34m(self, nrows)\u001b[0m\n\u001b[1;32m   1697\u001b[0m nrows \u001b[39m=\u001b[39m validate_integer(\u001b[39m\"\u001b[39m\u001b[39mnrows\u001b[39m\u001b[39m\"\u001b[39m, nrows)\n\u001b[1;32m   1698\u001b[0m \u001b[39mtry\u001b[39;00m:\n\u001b[1;32m   1699\u001b[0m     \u001b[39m# error: \"ParserBase\" has no attribute \"read\"\u001b[39;00m\n\u001b[1;32m   1700\u001b[0m     (\n\u001b[1;32m   1701\u001b[0m         index,\n\u001b[1;32m   1702\u001b[0m         columns,\n\u001b[1;32m   1703\u001b[0m         col_dict,\n\u001b[0;32m-> 1704\u001b[0m     ) \u001b[39m=\u001b[39m \u001b[39mself\u001b[39;49m\u001b[39m.\u001b[39;49m_engine\u001b[39m.\u001b[39;49mread(  \u001b[39m# type: ignore[attr-defined]\u001b[39;49;00m\n\u001b[1;32m   1705\u001b[0m         nrows\n\u001b[1;32m   1706\u001b[0m     )\n\u001b[1;32m   1707\u001b[0m \u001b[39mexcept\u001b[39;00m \u001b[39mException\u001b[39;00m:\n\u001b[1;32m   1708\u001b[0m     \u001b[39mself\u001b[39m\u001b[39m.\u001b[39mclose()\n",
      "File \u001b[0;32m~/Programming/Bioinformatics/Projects/Methylation_1/vmeth/lib/python3.10/site-packages/pandas/io/parsers/c_parser_wrapper.py:239\u001b[0m, in \u001b[0;36mCParserWrapper.read\u001b[0;34m(self, nrows)\u001b[0m\n\u001b[1;32m    236\u001b[0m         data \u001b[39m=\u001b[39m _concatenate_chunks(chunks)\n\u001b[1;32m    238\u001b[0m     \u001b[39melse\u001b[39;00m:\n\u001b[0;32m--> 239\u001b[0m         data \u001b[39m=\u001b[39m \u001b[39mself\u001b[39;49m\u001b[39m.\u001b[39;49m_reader\u001b[39m.\u001b[39;49mread(nrows)\n\u001b[1;32m    240\u001b[0m \u001b[39mexcept\u001b[39;00m \u001b[39mStopIteration\u001b[39;00m:\n\u001b[1;32m    241\u001b[0m     \u001b[39mif\u001b[39;00m \u001b[39mself\u001b[39m\u001b[39m.\u001b[39m_first_chunk:\n",
      "File \u001b[0;32m~/Programming/Bioinformatics/Projects/Methylation_1/vmeth/lib/python3.10/site-packages/pandas/_libs/parsers.pyx:794\u001b[0m, in \u001b[0;36mpandas._libs.parsers.TextReader.read\u001b[0;34m()\u001b[0m\n",
      "File \u001b[0;32m~/Programming/Bioinformatics/Projects/Methylation_1/vmeth/lib/python3.10/site-packages/pandas/_libs/parsers.pyx:882\u001b[0m, in \u001b[0;36mpandas._libs.parsers.TextReader._read_rows\u001b[0;34m()\u001b[0m\n",
      "File \u001b[0;32m~/Programming/Bioinformatics/Projects/Methylation_1/vmeth/lib/python3.10/site-packages/pandas/_libs/parsers.pyx:859\u001b[0m, in \u001b[0;36mpandas._libs.parsers.TextReader._check_tokenize_status\u001b[0;34m()\u001b[0m\n",
      "File \u001b[0;32m~/Programming/Bioinformatics/Projects/Methylation_1/vmeth/lib/python3.10/site-packages/pandas/_libs/parsers.pyx:2017\u001b[0m, in \u001b[0;36mpandas._libs.parsers.raise_parser_error\u001b[0;34m()\u001b[0m\n",
      "File \u001b[0;32m/usr/lib/python3.10/_compression.py:68\u001b[0m, in \u001b[0;36mDecompressReader.readinto\u001b[0;34m(self, b)\u001b[0m\n\u001b[1;32m     66\u001b[0m \u001b[39mdef\u001b[39;00m \u001b[39mreadinto\u001b[39m(\u001b[39mself\u001b[39m, b):\n\u001b[1;32m     67\u001b[0m     \u001b[39mwith\u001b[39;00m \u001b[39mmemoryview\u001b[39m(b) \u001b[39mas\u001b[39;00m view, view\u001b[39m.\u001b[39mcast(\u001b[39m\"\u001b[39m\u001b[39mB\u001b[39m\u001b[39m\"\u001b[39m) \u001b[39mas\u001b[39;00m byte_view:\n\u001b[0;32m---> 68\u001b[0m         data \u001b[39m=\u001b[39m \u001b[39mself\u001b[39;49m\u001b[39m.\u001b[39;49mread(\u001b[39mlen\u001b[39;49m(byte_view))\n\u001b[1;32m     69\u001b[0m         byte_view[:\u001b[39mlen\u001b[39m(data)] \u001b[39m=\u001b[39m data\n\u001b[1;32m     70\u001b[0m     \u001b[39mreturn\u001b[39;00m \u001b[39mlen\u001b[39m(data)\n",
      "File \u001b[0;32m/usr/lib/python3.10/gzip.py:496\u001b[0m, in \u001b[0;36m_GzipReader.read\u001b[0;34m(self, size)\u001b[0m\n\u001b[1;32m    493\u001b[0m \u001b[39m# Read a chunk of data from the file\u001b[39;00m\n\u001b[1;32m    494\u001b[0m buf \u001b[39m=\u001b[39m \u001b[39mself\u001b[39m\u001b[39m.\u001b[39m_fp\u001b[39m.\u001b[39mread(io\u001b[39m.\u001b[39mDEFAULT_BUFFER_SIZE)\n\u001b[0;32m--> 496\u001b[0m uncompress \u001b[39m=\u001b[39m \u001b[39mself\u001b[39;49m\u001b[39m.\u001b[39;49m_decompressor\u001b[39m.\u001b[39;49mdecompress(buf, size)\n\u001b[1;32m    497\u001b[0m \u001b[39mif\u001b[39;00m \u001b[39mself\u001b[39m\u001b[39m.\u001b[39m_decompressor\u001b[39m.\u001b[39munconsumed_tail \u001b[39m!=\u001b[39m \u001b[39mb\u001b[39m\u001b[39m\"\u001b[39m\u001b[39m\"\u001b[39m:\n\u001b[1;32m    498\u001b[0m     \u001b[39mself\u001b[39m\u001b[39m.\u001b[39m_fp\u001b[39m.\u001b[39mprepend(\u001b[39mself\u001b[39m\u001b[39m.\u001b[39m_decompressor\u001b[39m.\u001b[39munconsumed_tail)\n",
      "\u001b[0;31mKeyboardInterrupt\u001b[0m: "
     ]
    }
   ],
   "source": [
    "print(\"Pick the number of which tissue sample you'd like to perform statistical analysis on: \")\n",
    "print(\"\\n1. Lung \\n2. Heart \\n3. Liver \\n4. Cortex \\n5. All Samples\")\n",
    "opt_sel = int(input(\"--->\"))\n",
    "\n",
    "if opt_sel < 5:\n",
    "    df = build_df(sample_list[opt_sel-1])\n",
    "    chromo_df = df[df['chromosome'] == '10']\n",
    "else:\n",
    "    df = build_result()\n",
    "\n",
    "# # print(chromo_df.head())\n",
    "# print(f\"Total # of Samples: {len(df)}\")\n",
    "# print(f\"Average Methylation Rate: {df['methyl_rate'].mean()}%\")\n",
    "# print(f\"Average Methylation depth: {(df['s_depth'] + df['e_depth']).mean()}\")\n",
    "\n",
    "df['Row'] = sample_list\n",
    "column_order = ['Row', 'sites', 'ave depth', 'ave methylation']\n",
    "df = df[column_order]\n",
    "df.to_csv('result.csv')"
   ]
  },
  {
   "cell_type": "code",
   "execution_count": 10,
   "metadata": {},
   "outputs": [
    {
     "data": {
      "text/html": [
       "<div>\n",
       "<style scoped>\n",
       "    .dataframe tbody tr th:only-of-type {\n",
       "        vertical-align: middle;\n",
       "    }\n",
       "\n",
       "    .dataframe tbody tr th {\n",
       "        vertical-align: top;\n",
       "    }\n",
       "\n",
       "    .dataframe thead th {\n",
       "        text-align: right;\n",
       "    }\n",
       "</style>\n",
       "<table border=\"1\" class=\"dataframe\">\n",
       "  <thead>\n",
       "    <tr style=\"text-align: right;\">\n",
       "      <th></th>\n",
       "      <th>sites</th>\n",
       "      <th>ave depth</th>\n",
       "      <th>ave methylation</th>\n",
       "    </tr>\n",
       "  </thead>\n",
       "  <tbody>\n",
       "    <tr>\n",
       "      <th>0</th>\n",
       "      <td>4085551.0</td>\n",
       "      <td>15.241029</td>\n",
       "      <td>35.427501</td>\n",
       "    </tr>\n",
       "    <tr>\n",
       "      <th>1</th>\n",
       "      <td>4021292.0</td>\n",
       "      <td>14.609889</td>\n",
       "      <td>35.120765</td>\n",
       "    </tr>\n",
       "    <tr>\n",
       "      <th>2</th>\n",
       "      <td>4147692.0</td>\n",
       "      <td>13.342087</td>\n",
       "      <td>36.218352</td>\n",
       "    </tr>\n",
       "    <tr>\n",
       "      <th>3</th>\n",
       "      <td>4353634.0</td>\n",
       "      <td>14.978642</td>\n",
       "      <td>38.081742</td>\n",
       "    </tr>\n",
       "  </tbody>\n",
       "</table>\n",
       "</div>"
      ],
      "text/plain": [
       "       sites  ave depth  ave methylation\n",
       "0  4085551.0  15.241029        35.427501\n",
       "1  4021292.0  14.609889        35.120765\n",
       "2  4147692.0  13.342087        36.218352\n",
       "3  4353634.0  14.978642        38.081742"
      ]
     },
     "execution_count": 10,
     "metadata": {},
     "output_type": "execute_result"
    }
   ],
   "source": [
    "df"
   ]
  },
  {
   "cell_type": "code",
   "execution_count": null,
   "metadata": {},
   "outputs": [],
   "source": []
  }
 ],
 "metadata": {
  "kernelspec": {
   "display_name": "vmeth",
   "language": "python",
   "name": "python3"
  },
  "language_info": {
   "codemirror_mode": {
    "name": "ipython",
    "version": 3
   },
   "file_extension": ".py",
   "mimetype": "text/x-python",
   "name": "python",
   "nbconvert_exporter": "python",
   "pygments_lexer": "ipython3",
   "version": "3.10.6"
  },
  "orig_nbformat": 4
 },
 "nbformat": 4,
 "nbformat_minor": 2
}
