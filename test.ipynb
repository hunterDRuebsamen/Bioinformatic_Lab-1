{
 "cells": [
  {
   "attachments": {},
   "cell_type": "markdown",
   "metadata": {},
   "source": [
    "### WIP Methylation Statistical Analysis\n",
    "\n",
    "This code analyzes a multi-tissue DNA methylation dataset from mice, sourced from ['Multi-tissue DNA methylation age predictor in mouse'](https://genomebiology.biomedcentral.com/articles/10.1186/s13059-017-1203-5). It calculates average methylation rate, depth, and identifies tissue-specific and age-related differentiations in the samples. By employing  statistical techniques, this code will provide valuable insights into DNA methylation patterns and their association with aging processes. "
   ]
  },
  {
   "cell_type": "code",
   "execution_count": 19,
   "metadata": {},
   "outputs": [],
   "source": [
    "import gzip\n",
    "import os\n",
    "import pandas as pd\n",
    "import sys\n",
    "from typing import Tuple, List"
   ]
  },
  {
   "attachments": {},
   "cell_type": "markdown",
   "metadata": {},
   "source": [
    "### Load Data & Build Dataframe\n",
    "\n",
    "The build_df function generates a pandas DataFrame from a specified sample name. It initializes an empty DataFrame and defines column names. It iterates through files in the directory, checking for gzip format and matching sample name. Data is read using read_csv, with tab as separator, and stored in a temporary DataFrame. If the main DataFrame is empty, the data is directly assigned. The function returns the compiled DataFrame from matching files."
   ]
  },
  {
   "cell_type": "code",
   "execution_count": 20,
   "metadata": {},
   "outputs": [],
   "source": [
    "directory = 'data/GSE93957_RAW/'\n",
    "sample_list = [\"Lung\", \"Heart\", \"Liver\", \"Cortex\"]\n",
    "\n",
    "def build_df(test) -> Tuple[pd.DataFrame, str]:\n",
    "    # Create empty DataFrame to be filled\n",
    "    df = pd.DataFrame()\n",
    "    columns_names = ['chromosome', 's_loc', 'e_loc', 'methyl_rate', 's_depth', 'e_depth']\n",
    "\n",
    "    # Iterate over files in the directory\n",
    "    for filename in os.listdir(directory):\n",
    "        if not test:\n",
    "        # Check if the file is gzipped \n",
    "            if filename.endswith('.gz') and '_1wk_' in filename:  \n",
    "                file_path = os.path.join(directory, filename)\n",
    "\n",
    "                # Open the gzipped file in text mode\n",
    "                with gzip.open(file_path, 'rt') as file:  \n",
    "                    print(file_path)\n",
    "                    # if len(df) > 0:                    \n",
    "                    #     # Create temporary dataframe to concatenate results\n",
    "                    #     temp_df = pd.read_csv(file_path, sep=\"\\t\", header=None, names=columns_names, low_memory=False)\n",
    "                    #     pd.concat([df, temp_df], ignore_index=True)\n",
    "                    # else:\n",
    "                    df = pd.read_csv(file_path, sep=\"\\t\", header=None, names=columns_names, low_memory=False)\n",
    "        else:\n",
    "            df = pd.read_csv('data/GSE93957_RAW/sample_cortex.txt', sep=\"\\t\", header=None, names=columns_names, low_memory=False)\n",
    "    return df, filename"
   ]
  },
  {
   "attachments": {},
   "cell_type": "markdown",
   "metadata": {},
   "source": [
    "### Build Final Result"
   ]
  },
  {
   "cell_type": "code",
   "execution_count": 24,
   "metadata": {},
   "outputs": [],
   "source": [
    "def build_result(test = False):\n",
    "    column_names = ['sites', 'ave depth', 'ave methylation', 'ave methylation > 2 depth']\n",
    "    result = pd.DataFrame(columns=column_names)\n",
    "\n",
    "    \n",
    "    df, name = build_df(test = True)\n",
    "    length = len(df)\n",
    "    depth = (df['s_depth'] + df['e_depth']).mean()\n",
    "    mean = df['methyl_rate'].mean()\n",
    "    \n",
    "    # Get the average methylation for rows with depth >= 2\n",
    "    df = df.drop(df[df['e_depth'] - df['s_depth'] < 2].index)\n",
    "    two_depth_mean = df['methyl_rate'].mean()\n",
    "    result.loc[len(result)] = [length, depth, mean, two_depth_mean]\n",
    "\n",
    "    return result, name\n",
    "\n"
   ]
  },
  {
   "attachments": {},
   "cell_type": "markdown",
   "metadata": {},
   "source": [
    "### Display menu for user\n",
    "\n",
    "In this example we choose '5': all samples"
   ]
  },
  {
   "cell_type": "code",
   "execution_count": 25,
   "metadata": {},
   "outputs": [],
   "source": [
    "# Build a DataFrame from the raw files in 'Data' directory\n",
    "df, row_name = build_df(True)\n",
    "\n",
    "# Perform statistical analysis and build a 'result DataFrame' that will be saved\n",
    "df = build_result()\n",
    "df['Row'] = row_name\n",
    "column_order = ['Row', 'sites', 'ave depth', 'ave methylation', 'ave methylation > 2 depth']\n",
    "df = df[column_order]\n",
    "df.to_csv('result.csv', index=False)"
   ]
  },
  {
   "cell_type": "code",
   "execution_count": 23,
   "metadata": {},
   "outputs": [
    {
     "data": {
      "text/html": [
       "<div>\n",
       "<style scoped>\n",
       "    .dataframe tbody tr th:only-of-type {\n",
       "        vertical-align: middle;\n",
       "    }\n",
       "\n",
       "    .dataframe tbody tr th {\n",
       "        vertical-align: top;\n",
       "    }\n",
       "\n",
       "    .dataframe thead th {\n",
       "        text-align: right;\n",
       "    }\n",
       "</style>\n",
       "<table border=\"1\" class=\"dataframe\">\n",
       "  <thead>\n",
       "    <tr style=\"text-align: right;\">\n",
       "      <th></th>\n",
       "      <th>Row</th>\n",
       "      <th>sites</th>\n",
       "      <th>ave depth</th>\n",
       "      <th>ave methylation</th>\n",
       "      <th>ave methylation &gt; 2</th>\n",
       "    </tr>\n",
       "  </thead>\n",
       "  <tbody>\n",
       "    <tr>\n",
       "      <th>0</th>\n",
       "      <td>sample_cortex.txt</td>\n",
       "      <td>50.0</td>\n",
       "      <td>12.54</td>\n",
       "      <td>50.67676</td>\n",
       "      <td>6.689342</td>\n",
       "    </tr>\n",
       "  </tbody>\n",
       "</table>\n",
       "</div>"
      ],
      "text/plain": [
       "                 Row  sites  ave depth  ave methylation  ave methylation > 2\n",
       "0  sample_cortex.txt   50.0      12.54         50.67676             6.689342"
      ]
     },
     "execution_count": 23,
     "metadata": {},
     "output_type": "execute_result"
    }
   ],
   "source": [
    "# Display Results Table\n",
    "df"
   ]
  }
 ],
 "metadata": {
  "kernelspec": {
   "display_name": "vmeth",
   "language": "python",
   "name": "python3"
  },
  "language_info": {
   "codemirror_mode": {
    "name": "ipython",
    "version": 3
   },
   "file_extension": ".py",
   "mimetype": "text/x-python",
   "name": "python",
   "nbconvert_exporter": "python",
   "pygments_lexer": "ipython3",
   "version": "3.10.11"
  },
  "orig_nbformat": 4
 },
 "nbformat": 4,
 "nbformat_minor": 2
}
