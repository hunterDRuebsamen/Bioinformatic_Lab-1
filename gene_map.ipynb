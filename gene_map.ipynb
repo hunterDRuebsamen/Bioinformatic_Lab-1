{
 "cells": [
  {
   "cell_type": "code",
   "execution_count": 1,
   "metadata": {},
   "outputs": [],
   "source": [
    "import gzip\n",
    "import os\n",
    "import re\n",
    "import pandas as pd\n",
    "import matplotlib.pyplot as plt\n",
    "import sys\n",
    "from typing import Tuple, List\n",
    "from tabulate import tabulate"
   ]
  },
  {
   "cell_type": "code",
   "execution_count": null,
   "metadata": {},
   "outputs": [],
   "source": [
    "pd.set_option('display.max_rows', None)\n",
    "directory = 'data/GSE93957_RAW/'\n",
    "\n",
    "def build_df(filename) -> pd.DataFrame:\n",
    "    # Create empty DataFrame to be filled\n",
    "    df = pd.DataFrame()\n",
    "    columns_names = ['chromosome', 's_loc', 'e_loc', 'methyl_rate', 's_depth', 'e_depth']\n",
    "\n",
    "    file_path = os.path.join(directory, filename)\n",
    "    # Open the gzipped file in text mode\n",
    "    with gzip.open(file_path, 'rt') as file:  \n",
    "        print(file_path)\n",
    "        df = pd.read_csv(file_path, sep=\"\\t\", header=None, names=columns_names, low_memory=False)\n",
    "      \n",
    "    return df\n"
   ]
  },
  {
   "cell_type": "code",
   "execution_count": null,
   "metadata": {},
   "outputs": [],
   "source": [
    "df = build_df()"
   ]
  },
  {
   "cell_type": "code",
   "execution_count": 2,
   "metadata": {},
   "outputs": [
    {
     "ename": "FileNotFoundError",
     "evalue": "[Errno 2] No such file or directory: '/path/to/files/'",
     "output_type": "error",
     "traceback": [
      "\u001b[0;31m---------------------------------------------------------------------------\u001b[0m",
      "\u001b[0;31mFileNotFoundError\u001b[0m                         Traceback (most recent call last)",
      "Cell \u001b[0;32mIn[2], line 3\u001b[0m\n\u001b[1;32m      1\u001b[0m chrom_pattern \u001b[39m=\u001b[39m \u001b[39mr\u001b[39m\u001b[39m'\u001b[39m\u001b[39m\\\u001b[39m\u001b[39mbchr(\u001b[39m\u001b[39m\\\u001b[39m\u001b[39md\u001b[39m\u001b[39m{\u001b[39m\u001b[39m1,2})\u001b[39m\u001b[39m\\\u001b[39m\u001b[39mb\u001b[39m\u001b[39m'\u001b[39m\n\u001b[0;32m----> 3\u001b[0m chrom_files \u001b[39m=\u001b[39m os\u001b[39m.\u001b[39;49mlistdir(\u001b[39m'\u001b[39;49m\u001b[39m/path/to/files/\u001b[39;49m\u001b[39m'\u001b[39;49m) \n\u001b[1;32m      5\u001b[0m \u001b[39mfor\u001b[39;00m filename \u001b[39min\u001b[39;00m chrom_files:\n\u001b[1;32m      6\u001b[0m   match \u001b[39m=\u001b[39m re\u001b[39m.\u001b[39msearch(chrom_pattern, filename)\n",
      "\u001b[0;31mFileNotFoundError\u001b[0m: [Errno 2] No such file or directory: '/path/to/files/'"
     ]
    }
   ],
   "source": [
    "chrom_pattern = r'\\bchr(\\d{1,2})\\b'\n",
    "\n",
    "chrom_files = os.listdir('reference_genome') \n",
    "\n",
    "for filename in chrom_files:\n",
    "  match = re.search(chrom_pattern, filename)\n",
    "  if match:  \n",
    "    chrom = match.group(1)\n",
    "    print(chrom)"
   ]
  }
 ],
 "metadata": {
  "kernelspec": {
   "display_name": "vmeth",
   "language": "python",
   "name": "python3"
  },
  "language_info": {
   "codemirror_mode": {
    "name": "ipython",
    "version": 3
   },
   "file_extension": ".py",
   "mimetype": "text/x-python",
   "name": "python",
   "nbconvert_exporter": "python",
   "pygments_lexer": "ipython3",
   "version": "3.10.6"
  },
  "orig_nbformat": 4
 },
 "nbformat": 4,
 "nbformat_minor": 2
}
